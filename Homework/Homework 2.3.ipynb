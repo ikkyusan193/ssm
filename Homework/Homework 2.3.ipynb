{
 "cells": [
  {
   "cell_type": "markdown",
   "metadata": {},
   "source": [
    "### Homework 2.3 - 2D Temperature Distribution\n",
    "\n",
    "Solve 2D heat equation for the following initial conditions:\n",
    "\n",
    "$$\\begin{array}{l}\n",
    "u(x,0) = \\sin (2\\pi x)\\\\\n",
    "u(x,1) = \\sin (2\\pi x)\\\\\n",
    "u(0,y) = \\sin (3\\pi y)\\\\\n",
    "u(1,y) = \\sin (\\pi y)\n",
    "\\end{array}$$\n",
    "\n",
    "where $u(x, y)$ represent the steady state temperature distribution on 2D plane.\n",
    " \n",
    "Plot the 2D heat map of the solution."
   ]
  },
  {
   "cell_type": "code",
   "execution_count": 2,
   "metadata": {},
   "outputs": [],
   "source": [
    "import numpy as np\n",
    "import math\n",
    "import matplotlib.pyplot as plt\n",
    "import matplotlib.animation as animation"
   ]
  },
  {
   "cell_type": "code",
   "execution_count": 6,
   "metadata": {},
   "outputs": [
    {
     "name": "stdout",
     "output_type": "stream",
     "text": [
      "1002\n",
      "4.563154353309065e-05\n"
     ]
    },
    {
     "data": {
      "image/png": "[encoded data removed]",
      "text/plain": [
       "<Figure size 432x288 with 1 Axes>"
      ]
     },
     "metadata": {
      "needs_background": "light"
     },
     "output_type": "display_data"
    }
   ],
   "source": [
    "#number of iterations (number of times repeat the whole process again)\n",
    "max_iteration = 1002\n",
    "convergence = 0.00001\n",
    "\n",
    "\n",
    "#squared/rectangular dimension (x*x)\n",
    "dimension = 101\n",
    "\n",
    "#initiliazing arrays of (x*x) #2D\n",
    "u = np.zeros((dimension,dimension))\n",
    "\n",
    "x = np.linspace(0,1,dimension) \n",
    "y = np.linspace(0,1,dimension)\n",
    "\n",
    "# Setting boundary conditions\n",
    "u[:,0] = np.sin(2*np.pi*x)\n",
    "u[:,dimension-1] = np.sin(2*np.pi*x)\n",
    "u[0,:] = np.sin(3*np.pi*x)\n",
    "u[dimension-1,:] = np.sin(np.pi*x)\n",
    "\n",
    "iteration_count = 0\n",
    "diff = convergence + 1\n",
    "while iteration_count < max_iteration and diff > convergence:\n",
    "    diff = 0.0\n",
    "    utmp = u.copy()\n",
    "    for j in range(1,dimension-1):\n",
    "        for i in range(1,dimension-1):\n",
    "            u[i,j] = 0.25*(utmp[i+1,j] + utmp[i-1,j] + utmp[i,j+1] + utmp[i,j-1])\n",
    "            diff  += math.fabs(u[i,j] - utmp[i,j])\n",
    "    diff /=(dimension*dimension)        \n",
    "    iteration_count += 1\n",
    "\n",
    "print(iteration_count)\n",
    "print(diff)\n",
    "plt.imshow(u, cmap=\"hot\")\n",
    "plt.show()\n",
    "\n",
    "\n",
    "#credits: relaxing/error checking from http://compphysics.github.io/ComputationalPhysics/doc/pub/pde/html/._pde-bs070.html"
   ]
  }
 ],
 "metadata": {
  "kernelspec": {
   "display_name": "Python 3",
   "language": "python",
   "name": "python3"
  },
  "language_info": {
   "codemirror_mode": {
    "name": "ipython",
    "version": 3
   },
   "file_extension": ".py",
   "mimetype": "text/x-python",
   "name": "python",
   "nbconvert_exporter": "python",
   "pygments_lexer": "ipython3",
   "version": "3.7.3"
  }
 },
 "nbformat": 4,
 "nbformat_minor": 5
}
