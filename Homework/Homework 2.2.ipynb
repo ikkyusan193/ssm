{
 "cells": [
  {
   "cell_type": "markdown",
   "metadata": {},
   "source": [
    "### Homework 2.2 - Heat Transfer\n",
    "\n",
    "Use the finite differential method to solve a heat transfer equation, given by\n",
    "\n",
    "$$ \\frac{{\\partial T}}{{\\partial t}} = k\\frac{{{\\partial ^2}T}}{{\\partial {x^2}}} $$\n",
    "\n",
    "where $T(t, x)$ is the temperature distribution function.\n",
    "\n",
    "Solve the equation for $x$ between 0 and 1. At $x=0$ the temperature varies as $T(t,0)=sin(10t)$ and at At $x=1$ the temperature varies as $T(t,0)=e^{ - 100 (t - 0.15)^2}$.\n",
    "\n",
    "Make the animated clip of the temperature distribution function evolution. Pick appropriate time range."
   ]
  },
  {
   "cell_type": "code",
   "execution_count": 4,
   "metadata": {},
   "outputs": [],
   "source": [
    "import numpy as np\n",
    "import math\n",
    "import matplotlib.pyplot as plt\n",
    "import matplotlib.animation as animation"
   ]
  },
  {
   "cell_type": "code",
   "execution_count": 28,
   "metadata": {},
   "outputs": [
    {
     "data": {
      "image/png": "iVBORw0KGgoAAAANSUhEUgAAAYIAAAD8CAYAAAB6paOMAAAABHNCSVQICAgIfAhkiAAAAAlwSFlzAAALEgAACxIB0t1+/AAAADh0RVh0U29mdHdhcmUAbWF0cGxvdGxpYiB2ZXJzaW9uMy4xLjAsIGh0dHA6Ly9tYXRwbG90bGliLm9yZy+17YcXAAAcpklEQVR4nO3deXAed53n8fdHt+RDlu9DPhPncA5yPIQAswRIHEJqJs4wWUh2KQwT1lvMZGZr2KEIxVYxFWaqwszuZndqUwseyBAoIEBYNuKqkBOoJQbLJHZih8RHjC3kQ74PWbKk57t/dNs8UXQ8yvNIstyfV9VT3f37/frpX+voT19PP4oIzMwsuyrGuwNmZja+HARmZhnnIDAzyzgHgZlZxjkIzMwyzkFgZpZxZQkCSQ9J2i/ppUHqJemfJW2TtEnSNQV1qyVtTV+ry9EfMzMrXrmOCL4K3DJE/fuB5elrDfC/ASRNBz4HvA24DvicpKYy9cnMzIpQliCIiJ8Dh4Zosgr4WiTWAdMkzQPeBzwREYci4jDwBEMHipmZlVnVGC1nAbC7YLotLRus/A0krSE5mmDSpEnXXnLJJaPTUzOz89SGDRsORMSs/uVjFQQaoCyGKH9jYcRaYC1ALpeL1tbW8vXOzCwDJP1uoPKxumuoDVhYMN0MtA9RbmZmY2SsgqAF+Eh699D1wNGI2AM8DtwsqSm9SHxzWmZmZmOkLKeGJH0LeDcwU1IbyZ1A1QAR8UXgx8CtwDagE/hYWndI0ueB9elb3RcRQ110NjOzMitLEETEXcPUB/CXg9Q9BDxUjn6YmdnI+ZPFZmYZ5yAwM8s4B4GZWcY5CMzMMs5BYGaWcQ4CM7OMcxCYmWWcg8DMLOMcBGZmGecgMDPLOAeBmVnGOQjMzDLOQWBmlnEOAjOzjHMQmJllnIPAzCzjHARmZhnnIDAzy7iyBIGkWyS9ImmbpHsHqH9A0gvp61VJRwrq+grqWsrRHzMzK17J31ksqRJ4EFgJtAHrJbVExJYzbSLibwra/xVwdcFbnIqIq0rth5mZvTnlOCK4DtgWETsi4jTwCLBqiPZ3Ad8qw3LNzKwMyhEEC4DdBdNtadkbSFoMLAWeLiiuk9QqaZ2k28vQHzMzG4GSTw0BGqAsBml7J/BoRPQVlC2KiHZJy4CnJb0YEdvfsBBpDbAGYNGiRaX22czMUuU4ImgDFhZMNwPtg7S9k36nhSKiPR3uAJ7l9dcPCtutjYhcRORmzZpVap/NzCxVjiBYDyyXtFRSDcnG/g13/0i6GGgCnisoa5JUm47PBN4JbOk/r5mZjZ6STw1FRK+ke4DHgUrgoYjYLOk+oDUizoTCXcAjEVF42uhS4EuS8iShdH/h3UZmZjb69Prt8sSQy+WitbV1vLthZjahSNoQEbn+5f5ksZlZxjkIzMwyzkFgZpZxDgIzs4xzEJiZZZyDwMws4xwEZmYZ5yAwM8s4B4GZWcY5CMzMMs5BYGaWcQ4CM7OMcxCYmWWcg8DMLOMcBGZmGecgMDPLOAeBmVnGOQjMzDLOQWBmlnFlCQJJt0h6RdI2SfcOUP9RSR2SXkhfHy+oWy1pa/paXY7+mJlZ8apKfQNJlcCDwEqgDVgvqSUitvRr+u2IuKffvNOBzwE5IIAN6byHS+2XmZkVpxxHBNcB2yJiR0ScBh4BVhU57/uAJyLiULrxfwK4pQx9MjOzIpUjCBYAuwum29Ky/v5M0iZJj0paOMJ5kbRGUquk1o6OjjJ028zMoDxBoAHKot/0D4AlEXEl8CTw8AjmTQoj1kZELiJys2bNetOdNTOz1ytHELQBCwumm4H2wgYRcTAiutPJfwGuLXZeMzMbXeUIgvXAcklLJdUAdwIthQ0kzSuYvA14OR1/HLhZUpOkJuDmtMzMzMZIyXcNRUSvpHtINuCVwEMRsVnSfUBrRLQAfy3pNqAXOAR8NJ33kKTPk4QJwH0RcajUPpmZWfEUMeAp+XNaLpeL1tbW8e6GmdmEImlDROT6l/uTxWZmGecgMDPLOAeBmVnGOQjMzDLOQWBmlnEOAjOzjHMQmJllnIPAzCzjHARmZhnnIDAzyzgHgZlZxjkIzMwyzkFgZpZxDgIzs4xzEJiZZZyDwMws4xwEZmYZ5yAwM8u4sgSBpFskvSJpm6R7B6j/pKQtkjZJekrS4oK6PkkvpK+W/vOamdnoKvnL6yVVAg8CK4E2YL2klojYUtDseSAXEZ2SPgH8I/ChtO5URFxVaj/MzOzNKccRwXXAtojYERGngUeAVYUNIuKZiOhMJ9cBzWVYrpmZlUE5gmABsLtgui0tG8zdwE8KpusktUpaJ+n2wWaStCZt19rR0VFaj83M7KySTw0BGqAsBmwofRjIATcUFC+KiHZJy4CnJb0YEdvf8IYRa4G1ALlcbsD3NzOzkSvHEUEbsLBguhlo799I0k3AZ4HbIqL7THlEtKfDHcCzwNVl6JOZmRWpHEGwHlguaamkGuBO4HV3/0i6GvgSSQjsLyhvklSbjs8E3gkUXmQ2M7NRVvKpoYjolXQP8DhQCTwUEZsl3Qe0RkQL8E/AZOC7kgB2RcRtwKXAlyTlSULp/n53G5XV/mNdTK2vpq66crQWYWY24Shi4p1uz+Vy0draOuL5/vyr63l5zzH+043LuePaZqoq/Xk6M8sOSRsiIte/PFNbwo//m6XMmVrHvf/nRW5+4Of8cFM7+fzEC0Izy5aunj5aNrbzH7/eSldPX9nfvxx3DU0Y77hgJt//ixk8sWUf//Wnr3DPN5/nsvnb+dT7LuaGi2aRnrYyMxt3EcFvdh3he79p4wcb2zne1cv8xjp2HjzJJXOnlnVZmTo1VKgvHzz2wu/570+8StvhU7x1SROfePcFvOfi2Q4EMxs3uw910rKxne9taGPHgZPUV1fy/svn8mfXNvP2ZTOoqHjz26fBTg1lNgjOON2b55H1u/jis9tpP9rFxXOmsOZdy7jtqvlU+xqCmY2BvUe7+NGLe/jhpnae33UEgOuWTueOa5u59Yp5TK4tz8kbB8Ewevry/GBjO1/62Q5e2Xec+Y11/PkfLeWu6xYxqUy/BDOzM/Yf7+Lxzfv4wcZ21u88RASsmDeVP3nLfP74ynksnN5Q9mU6CIoUETz7Sgdf/Nl2fvXaIabUVfGBqxfw7962mIvnThmVZZpZNmzvOMETW/bx0817eX73ESLgwtmT+ZMr5/PHb5nHBbMmj+ryHQRvwvO7DvPwL3fy4xf3crovz7WLm/j3b1vErVfM82cRzGxYvX15Xth9hKd+u5+fbt7L9o6TAFyxoJGVK+Zw82VzuHjOlDG7LukgKMGhk6f53oY2vvnrXbx24CSN9dV84JoF/OnVC7hiQaMvLpvZWfuOdfGzVzr42asd/GJrB8e6eqmqENcvm8HKFXO4acUcFkyrH5e+OQjKICJ4bvtBvvHrXfx08156+oIlMxq47aoF3PaW+Vw4e3QP68zs3HOiu5f1Ow/x3PaD/PzVDn679zgAc6bWcsNFs7jhotn80YUzaWyoHueeOgjK7mhnDz95aQ8tG9t5bsdBIuCy+cmFnptXzGHZKJ/rM7Px0dXTx4bfHeaX2w/w3PaDbGw7Sl8+qKms4JrF03j3xbO54aJZXDJ37E75FMtBMIr2Hevih5uSUNi4O7n1a9nMSdx46WxuvHQOucVNfpyF2QS1/3gXG3YepvV3yWvz74/Smw8qK8SVzY2844IZvH3ZTK5d3ER9zbl97dBBMEbaDnfy9G/38+TL+1m3/SCn+/I01lfz7otn8c4LZ/KOC2bQ3FT+28LMrHRdPX1sbj/GprYjbGo7yobfHWbXoeTLFWurKnhL8zSuXdLEdUum89al08t2f/9YcRCMgxPdvfzi1Q6efHk/z76yn4MnTwOwaHpDsheRvmZPqRvnnpplT+fpXl7Ze5wte47xYttRNrYd5dV9x+lLnz82e0otVy+aRm7xdK5d0sTl8xupqZrYR/YOgnEWEby67wS/3H6AX24/yLodBzne1QskwXD1omlcvXAa1yxu4pK5Uyf8H5zZuSKfD35/5BSv7jvOb/ceZ0v7MV7ec4zXDp7kzOavsb6aK5sb09c03tI8jbmN598OmoPgHNOXDza3H2XdjoM8v+sIv9l1mH3Hki9uq62q4PIFjVw+fyor5k/l0nlTuWjOFH92wWwIXT19/O5gJ68dOMn2jhNs3XecrftPsL3jBF09+bPtFk1v4NJ5U7h0XvK/tWLeVJqb6s+5C7ujYbAgmFgnuM4jyYWmaVzZPO1s2Z6jp3h+1xGe33WY53cd4dENbZx8LnnkbIXgglmTuXTeVJbPnswFsydzwazJLJ7R4ICwTIgIjp7qoe3wKXYf6mT34U52Huxk54GT7Dxwkj3Huijcr10wrZ4LZ0/m+mUzWD57MsvnTOaiOVOYUjf+t3Gea3xEcA7L54PdhzvPHspu2XOcl/cc4/dHTp1tI8HCpgaWzZrEkhmTaG6qZ+H0BhY2NbBwer3/6G3C6OrpY+/RLvYc7WLvsVPJ8GgX7Ue6aDvcSdvhU5zo7n3dPNMaqlkyYxJLZyZ//0tmNrBkxiQumD15wl3IHQs+IpiAKirE4hmTWDxjEu+/Yt7Z8s7Tvenh70m27z/BjgPJsHXn4Tf8ozTWV7NgWj1zG+uYM7WOuVPrmNtYy5ypyfSMyTVMb6jx7a1WdhHBydN9HDpxmoMnuznceZqDJ05z8ORpOo53/+F1opv9x7o41tX7hvdorK9mXmMdzU31XL9sBs1N9TQ3NSQ7PE0N58SHtM4HZQkCSbcA/5PkO4u/HBH396uvBb4GXAscBD4UETvTus8AdwN9wF9HxOPl6NP5rKGmisvmN3LZ/MbXlZ85dN596BS7D3eePXzec6SLvce62Lj7yNk7lwpJ0NRQw4xJNcyYXMOMSbU0NlQzrb6aaQ3VTKuvobGhmsb6aqbUVTGlNhlOrqvyo7rPY/l80NnTx8nuXk5293Kiu5fjXWdePWfHj3X1cPRUD0c6ezh2qocjp05zpLOHI6d6ON2bH/C9G2oqmT2llllTarlozmTeecEMZk2pZW5jPfMb65ibvhpqvK86Fkr+KUuqBB4EVgJtwHpJLf2+hP5u4HBEXCjpTuALwIckrQDuBC4D5gNPSrooIsr/XWwZIIlpDTVMa6jhiubGAdt09/ax/1g3+4510XG8mwMnujmQ7rEdOJ4MX957LPmH7uyhd5iv8qyrrmBKXTUNNZU01FQxqaaS+ppKJtVU0VBTSW11JfXVldRVV1BXMKytqqCmqoKaykpqqirOTldXiurKCqoqKqipElUVFVSlZZUVorqigspKUVUhKitEpVTSF3WcS/L5oC+Cvnzy6j07zCfDvqSsty9PT1/Q05enN5/ndG+kw/TVl6e7N09PXzLd3Zunq6eP7t483T15unr7kmFPH6d6+jh1Ohl29fTReTp5nezu5VSRX4nYUFPJtPpqGhtqaKyvYtnMyTSmOxHTJ9UwPd3BmD6plhnptB/tfm4px2/jOmBbROwAkPQIsAooDIJVwN+l448C/0vJJfpVwCMR0Q28Jmlb+n7PlaFfNoDaqsrkGkIRzzo/c2h/pDPZwzt6KtkLTPYMXz9+ZgPSeTop23+sm5One+nqydPd00dXbx89faN3PeoPocDZcKiQqBBUSEiisgKEUFoGnB0/c8NIYaQMdRdJRBBABCRj6Xj8oS4fQb6gLJ9u5COSur60/syGf7RVV4q6qkpqqyuorUpCub4mCeopdVXMmVpLXXUS6JNr02CvrWRSbRWTaqqYXFt19khwal16VFhb5dOK54FyBMECYHfBdBvwtsHaRESvpKPAjLR8Xb95Fwy0EElrgDUAixYtKkO3bTiSmFyb/LM3N5X+fr19ebrSvdPCvddkrzXZY+1N93R7zg7zf9gTzifjffmgJ5+nry/dmJ7dk+bsxjYfBRvcfLLBzeeDINKNd1JH2gagcFN85h6K4PXh8PqfT1In6Q9t0mCpKAiYM/WVZ8Mpra9I6qsKjmyqKpJhpURVZcXZI5+zw8rkKKm6Mjl6qqr8w1FUTWV6lFVVMF5ZcXbDX3meHDlZ+ZUjCAb66+q/ezNYm2LmTQoj1gJrIblraCQdtHNDVWUFkysrfDeH2TmmHMd0bcDCgulmoH2wNpKqgEbgUJHzmpnZKCpHEKwHlktaKqmG5OJvS782LcDqdPwO4OlIPsDQAtwpqVbSUmA58Osy9MnMzIpU8jF6es7/HuBxkttHH4qIzZLuA1ojogX4CvD19GLwIZKwIG33HZILy73AX/qOITOzseVPFpuZZcRgnyz2fV9mZhnnIDAzyzgHgZlZxjkIzMwyzkFgZpZxDgIzs4xzEJiZZZyDwMws4xwEZmYZ5yAwM8s4B4GZWcY5CMzMMs5BYGaWcQ4CM7OMcxCYmWWcg8DMLOMcBGZmGecgMDPLuJKCQNJ0SU9I2poOmwZoc5Wk5yRtlrRJ0ocK6r4q6TVJL6Svq0rpj5mZjVypRwT3Ak9FxHLgqXS6v07gIxFxGXAL8D8kTSuo/1REXJW+XiixP2ZmNkKlBsEq4OF0/GHg9v4NIuLViNiajrcD+4FZJS7XzMzKpNQgmBMRewDS4eyhGku6DqgBthcU/0N6yugBSbVDzLtGUquk1o6OjhK7bWZmZwwbBJKelPTSAK9VI1mQpHnA14GPRUQ+Lf4McAnwVmA68OnB5o+ItRGRi4jcrFk+oDAzK5eq4RpExE2D1UnaJ2leROxJN/T7B2k3FfgR8F8iYl3Be+9JR7sl/SvwtyPqvZmZlazUU0MtwOp0fDXwWP8GkmqA7wNfi4jv9qublw5Fcn3hpRL7Y2ZmI1RqENwPrJS0FViZTiMpJ+nLaZsPAu8CPjrAbaLfkPQi8CIwE/j7EvtjZmYjpIgY7z6MWC6Xi9bW1vHuhpnZhCJpQ0Tk+pf7k8VmZhnnIDAzyzgHgZlZxjkIzMwyzkFgZpZxDgIzs4xzEJiZZZyDwMws4xwEZmYZ5yAwM8s4B4GZWcY5CMzMMs5BYGaWcQ4CM7OMcxCYmWWcg8DMLOMcBGZmGecgMDPLuJKCQNJ0SU9I2poOmwZp11fwfcUtBeVLJf0qnf/b6Rfdm5nZGCr1iOBe4KmIWA48lU4P5FREXJW+biso/wLwQDr/YeDuEvtjZmYjVGoQrAIeTscfBm4vdkZJAt4LPPpm5jczs/IoNQjmRMQegHQ4e5B2dZJaJa2TdGZjPwM4EhG96XQbsGCwBUlak75Ha0dHR4ndNjOzM6qGayDpSWDuAFWfHcFyFkVEu6RlwNOSXgSODdAuBnuDiFgLrAXI5XKDtjMzs5EZNggi4qbB6iTtkzQvIvZImgfsH+Q92tPhDknPAlcD3wOmSapKjwqagfY3sQ5mZlaCUk8NtQCr0/HVwGP9G0hqklSbjs8E3glsiYgAngHuGGp+MzMbXaUGwf3ASklbgZXpNJJykr6ctrkUaJW0kWTDf39EbEnrPg18UtI2kmsGXymxP2ZmNkJKdswnllwuF62trePdDTOzCUXShojI9S/3J4vNzDLOQWBmlnEOAjOzjHMQmJllnIPAzCzjHARmZhnnIDAzyzgHgZlZxjkIzMwyzkFgZpZxDgIzs4xzEJiZZZyDwMws4xwEZmYZ5yAwM8s4B4GZWcY5CMzMMs5BYGaWcSUFgaTpkp6QtDUdNg3Q5j2SXih4dUm6Pa37qqTXCuquKqU/ZmY2cqUeEdwLPBURy4Gn0unXiYhnIuKqiLgKeC/QCfy0oMmnztRHxAsl9sfMzEao1CBYBTycjj8M3D5M+zuAn0REZ4nLNTOzMik1COZExB6AdDh7mPZ3At/qV/YPkjZJekBSbYn9MTOzEaoaroGkJ4G5A1R9diQLkjQPuAJ4vKD4M8BeoAZYC3wauG+Q+dcAawAWLVo0kkWbmdkQhg2CiLhpsDpJ+yTNi4g96YZ+/xBv9UHg+xHRU/Dee9LRbkn/CvztEP1YSxIW5HK5GK7fZmZWnFJPDbUAq9Px1cBjQ7S9i36nhdLwQJJIri+8VGJ/zMxshEoNgvuBlZK2AivTaSTlJH35TCNJS4CFwM/6zf8NSS8CLwIzgb8vsT9mZjZCw54aGkpEHARuHKC8Ffh4wfROYMEA7d5byvLNzKx0/mSxmVnGOQjMzDLOQWBmlnEOAjOzjHMQmJllnIPAzCzjHARmZhnnIDAzyzgHgZlZxjkIzMwyzkFgZpZxDgIzs4xzEJiZZZyDwMws4xwEZmYZ5yAwM8s4B4GZWcY5CMzMMs5BYGaWcSUFgaR/K2mzpLyk3BDtbpH0iqRtku4tKF8q6VeStkr6tqSaUvpjZmYjV+oRwUvAB4CfD9ZAUiXwIPB+YAVwl6QVafUXgAciYjlwGLi7xP6YmdkIlRQEEfFyRLwyTLPrgG0RsSMiTgOPAKskCXgv8Gja7mHg9lL6Y2ZmI1c1BstYAOwumG4D3gbMAI5ERG9B+YLB3kTSGmBNOnlC0nABNJiZwIE3Oe9E5XXOBq/z+a/U9V08UOGwQSDpSWDuAFWfjYjHiliwBiiLIcoHFBFrgbVFLG/ozkitETHo9Yzzkdc5G7zO57/RWt9hgyAibipxGW3AwoLpZqCdJNWmSapKjwrOlJuZ2Rgai9tH1wPL0zuEaoA7gZaICOAZ4I603WqgmCMMMzMro1JvH/1TSW3A24EfSXo8LZ8v6ccA6d7+PcDjwMvAdyJic/oWnwY+KWkbyTWDr5TSnyKVfHppAvI6Z4PX+fw3KuurZMfczMyyyp8sNjPLOAeBmVnGnbdBMNhjLQrqa9PHWmxLH3OxZOx7WV5FrPMnJW2RtEnSU5IGvKd4IhlunQva3SEphnoUykRQzPpK+mD6e94s6Ztj3cdyK+LvepGkZyQ9n/5t3zoe/SwnSQ9J2i/ppUHqJemf05/JJknXlLTAiDjvXkAlsB1YBtQAG4EV/dr8BfDFdPxO4Nvj3e8xWOf3AA3p+CeysM5puykkj0FZB+TGu9+j/DteDjwPNKXTs8e732OwzmuBT6TjK4Cd493vMqz3u4BrgJcGqb8V+AnJ57GuB35VyvLO1yOCAR9r0a/NKpLHWkDymIsb08deTFTDrnNEPBMRnenkOpLPbkxkxfyeAT4P/CPQNZadGwXFrO9/AB6MiMMAEbF/jPtYbsWscwBT0/FGzoPPI0XEz4FDQzRZBXwtEutIPpM1780u73wNgoEea9H/8RVn20Ryi+tRkltYJ6pi1rnQ3SR7FBPZsOss6WpgYUT8cCw7NkqK+R1fBFwk6f9JWifpljHr3egoZp3/Dvhweiv7j4G/GpuujauR/r8PaSyeNTQeinl8xYgecTEBFL0+kj4M5IAbRrVHo2/IdZZUATwAfHSsOjTKivkdV5GcHno3yRHfLyRdHhFHRrlvo6WYdb4L+GpE/DdJbwe+nq5zfvS7N27Kuv06X48IBnusxYBtJFWRHFIOdSh2ritmnZF0E/BZ4LaI6B6jvo2W4dZ5CnA58KyknSTnUlsm8AXjYv+uH4uInoh4DXiFJBgmqmLW+W7gOwAR8RxQR/JwtvNZUf/vxTpfg2DAx1r0a9NC8lgLSB5z8XSkV2EmqGHXOT1N8iWSEJjo545hmHWOiKMRMTMilkTEEpLrIrdFROv4dLdkxfxd/1+SmwKQNJPkVNGOMe1leRWzzruAGwEkXUoSBB1j2sux1wJ8JL176HrgaETsebNvdl6eGoqIXklnHmtRCTwUEZsl3Qe0RkQLyeMsvp4+3uIQyR/YhFXkOv8TMBn4bnpdfFdE3DZunS5Rket83ihyfR8Hbpa0BegDPhURB8ev16Upcp3/M/Avkv6G5PTIRyf4Th2SvkVyem9meu3jc0A1QER8keRayK3ANqAT+FhJy5vgPy8zMyvR+XpqyMzMiuQgMDPLOAeBmVnGOQjMzDLOQWBmlnEOAjOzjHMQmJll3P8HgASHOtBWmS8AAAAASUVORK5CYII=\n",
      "text/plain": [
       "<Figure size 432x288 with 1 Axes>"
      ]
     },
     "metadata": {
      "needs_background": "light"
     },
     "output_type": "display_data"
    }
   ],
   "source": [
    "# Set up an array of ux0\n",
    "size = 50\n",
    "L = 1\n",
    "x = np.linspace(0, L, size+1, endpoint=True)\n",
    "Ux0 = 0*x\n",
    "\n",
    "# ensuring both ends are fixed at zero\n",
    "Ux0[0] = 0\n",
    "Ux0[size] = 0\n",
    "\n",
    "Uold = Ux0\n",
    "# Set up initial condition for the time derivative at t = 0\n",
    "dUx0 = np.zeros(size+1)\n",
    "\n",
    "\n",
    "#from finite equation\n",
    "dt = 0.0001 # Set up time step size\n",
    "dh = L / size # Spatial step size\n",
    "k = 1\n",
    "eps = eps =  k * (dt/(dh**2))\n",
    "\n",
    "\n",
    "\n",
    "\n",
    "# keep this\n",
    "# Calculate time step j = 1\n",
    "Uxj = np.zeros(size+1)\n",
    "for i in np.linspace(1, size-1, size-1, dtype=int):\n",
    "    Uxj[i] = 0.5*eps*(Ux0[i+1] + Ux0[i-1]) + (1. - eps)*(Ux0[i]) + dt * dUx0[i]\n",
    "\n",
    "UAll = np.array([Uxj])\n",
    "fig1 = plt.figure()\n",
    "l = plt.plot(x, Uxj)\n",
    "axes = plt.gca()\n",
    "axes.set_ylim([-1,1])\n",
    "\n",
    "for j in range(200):\n",
    "    Unew = np.zeros(size+1)\n",
    "#     Unew[size] = 0 #open condition where x = L\n",
    "    Unew[0] = np.sin(10*j*dt) #feeding wave conditions, x= 0\n",
    "    Unew[size] = np.exp(-100*((j*dt)-0.15)**2) #this is open condition where x = L, credit philippe\n",
    "    for i in np.linspace(1, size-1, size-1, dtype=int):\n",
    "        Unew[i] = eps*(Uxj[i+1]-2*Uxj[i]+Uxj[i-1])+Uxj[i] #from pdf 2.2 heat transfer\n",
    "    Uold = Uxj\n",
    "    Uxj = Unew\n",
    "    UAll = np.vstack([UAll, Unew]) #make it 2d-array\n",
    "\n",
    "    #Uxj = u, changing i\n",
    "    #Unew = u_i,j+1\n",
    "    #j*dt becuz step size\n",
    "\n",
    "        \n",
    "def update_line(num, line):\n",
    "    line.set_data(x, UAll[num])\n",
    "    return line,\n",
    "        \n",
    "line_ani = animation.FuncAnimation(fig1, update_line, 200, fargs=(l),interval=2, blit=True)\n",
    "writergif = animation.PillowWriter(fps=60)\n",
    "line_ani.save('2.2.gif',writer=writergif)\n",
    "plt.show()"
   ]
  },
  {
   "cell_type": "code",
   "execution_count": null,
<<<<<<< HEAD
=======
   "id": "372ae843",
>>>>>>> 5464de8ba616ee9b89646b4fc1146078b7a404bd
   "metadata": {},
   "outputs": [],
   "source": []
  }
 ],
 "metadata": {
  "kernelspec": {
   "display_name": "Python 3",
   "language": "python",
   "name": "python3"
  },
  "language_info": {
   "codemirror_mode": {
    "name": "ipython",
    "version": 3
   },
   "file_extension": ".py",
   "mimetype": "text/x-python",
   "name": "python",
   "nbconvert_exporter": "python",
   "pygments_lexer": "ipython3",
   "version": "3.7.3"
  }
 },
 "nbformat": 4,
 "nbformat_minor": 5
}
